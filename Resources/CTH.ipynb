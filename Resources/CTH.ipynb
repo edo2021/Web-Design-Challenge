import pandas as pd
csv_file = "cities.csv"
cities_df = pd.read_csv(csv_file)

cities_df